{
 "cells": [
  {
   "cell_type": "code",
   "execution_count": 1,
   "id": "b93bb52c",
   "metadata": {},
   "outputs": [],
   "source": [
    "# Import the random module.\n",
    "import random"
   ]
  },
  {
   "cell_type": "code",
   "execution_count": 2,
   "id": "495a0e65",
   "metadata": {},
   "outputs": [
    {
     "data": {
      "text/plain": [
       "89"
      ]
     },
     "execution_count": 2,
     "metadata": {},
     "output_type": "execute_result"
    }
   ],
   "source": [
    "random.randint(-90 , 90)"
   ]
  },
  {
   "cell_type": "code",
   "execution_count": 3,
   "id": "c80bd6a6",
   "metadata": {},
   "outputs": [
    {
     "data": {
      "text/plain": [
       "0.09121051498118782"
      ]
     },
     "execution_count": 3,
     "metadata": {},
     "output_type": "execute_result"
    }
   ],
   "source": [
    "random.random()"
   ]
  },
  {
   "cell_type": "code",
   "execution_count": 4,
   "id": "f6cd7ac9",
   "metadata": {},
   "outputs": [
    {
     "data": {
      "text/plain": [
       "-59.50507898191416"
      ]
     },
     "execution_count": 4,
     "metadata": {},
     "output_type": "execute_result"
    }
   ],
   "source": [
    "random_number = random.randint(-90, 89) + random.random()\n",
    "random_number"
   ]
  },
  {
   "cell_type": "code",
   "execution_count": 5,
   "id": "400e6492",
   "metadata": {},
   "outputs": [],
   "source": [
    " #Here is a small sample of what it might take to generate ten random floating-point decimal latitudes between –90 and 89.\n",
    "    \n",
    "#Assign the variable x to 1.\n",
    "#Initialize an empty list, latitudes.\n",
    "#We create a while loop where we generate a random latitude and add it to the list.\n",
    "#After the random latitude is added to the list we add one to the variable \"x\".\n",
    "#The while loop condition is checked again and will continue to run as long as x is less than 11.\n",
    "\n",
    "x = 1\n",
    "latitudes = []\n",
    "while x < 11:\n",
    "    random_lat = random.randint(-90, 89) + random.random()\n",
    "    latitudes.append(random_lat)\n",
    "    x += 1"
   ]
  },
  {
   "cell_type": "code",
   "execution_count": 6,
   "id": "1ad7831b",
   "metadata": {},
   "outputs": [
    {
     "data": {
      "text/plain": [
       "[-0.10140128719109653,\n",
       " -31.854526032910574,\n",
       " 73.7414209539447,\n",
       " 80.4914596422854,\n",
       " -27.12446269829088,\n",
       " 89.22179519485806,\n",
       " -22.583844249036154,\n",
       " 35.04753481790988,\n",
       " 85.09620969765125,\n",
       " 8.541460647520136]"
      ]
     },
     "execution_count": 6,
     "metadata": {},
     "output_type": "execute_result"
    }
   ],
   "source": [
    "latitudes"
   ]
  },
  {
   "cell_type": "code",
   "execution_count": 7,
   "id": "c35963e0",
   "metadata": {},
   "outputs": [
    {
     "data": {
      "text/plain": [
       "56"
      ]
     },
     "execution_count": 7,
     "metadata": {},
     "output_type": "execute_result"
    }
   ],
   "source": [
    "random.randrange(-90,90, step=1)"
   ]
  },
  {
   "cell_type": "code",
   "execution_count": 8,
   "id": "21b41783",
   "metadata": {},
   "outputs": [
    {
     "data": {
      "text/plain": [
       "87"
      ]
     },
     "execution_count": 8,
     "metadata": {},
     "output_type": "execute_result"
    }
   ],
   "source": [
    "random.randrange(-90,90, step=3)"
   ]
  },
  {
   "cell_type": "code",
   "execution_count": 9,
   "id": "a500f0f0",
   "metadata": {},
   "outputs": [
    {
     "data": {
      "text/plain": [
       "32.61947290916187"
      ]
     },
     "execution_count": 9,
     "metadata": {},
     "output_type": "execute_result"
    }
   ],
   "source": [
    "random.uniform(-90,90)"
   ]
  },
  {
   "cell_type": "code",
   "execution_count": 10,
   "id": "5460af3c",
   "metadata": {},
   "outputs": [],
   "source": [
    "# Import the NumPy module.\n",
    "import numpy as np"
   ]
  },
  {
   "cell_type": "code",
   "execution_count": 11,
   "id": "22a9882e",
   "metadata": {},
   "outputs": [
    {
     "data": {
      "text/plain": [
       "-11.489714315631971"
      ]
     },
     "execution_count": 11,
     "metadata": {},
     "output_type": "execute_result"
    }
   ],
   "source": [
    "np.random.uniform(-90.000, 90.000)"
   ]
  },
  {
   "cell_type": "code",
   "execution_count": 12,
   "id": "31183dc9",
   "metadata": {},
   "outputs": [
    {
     "data": {
      "text/plain": [
       "array([-72.4794368 ,   0.60359311,  16.00697297, -53.76875166,\n",
       "       -29.95044021,  15.73281999, -56.69992235,   6.11559137,\n",
       "        67.8818752 ,  56.13107573,  49.61724765, -40.36347629,\n",
       "        26.75468945, -35.45073114,  60.1897646 , -12.65188093,\n",
       "       -74.89131314,  67.23145756,  13.69759467,  -3.50288271,\n",
       "       -18.92642641,   7.50705629, -86.22755537, -27.16289439,\n",
       "       -84.22837433, -32.98911032,  78.91283568,  -0.77562656,\n",
       "        56.47677599,  36.03984032,  15.53263962, -63.14801396,\n",
       "        41.63214557, -70.2781674 , -76.247512  , -54.80346717,\n",
       "        50.39946722, -29.22413442, -61.24801863,  36.39072442,\n",
       "        53.39470323,  11.29528269, -64.23728025, -55.87164968,\n",
       "        69.31818923,  31.32110871, -13.49413958,  31.63849278,\n",
       "       -15.12707741,  -1.0327973 ])"
      ]
     },
     "execution_count": 12,
     "metadata": {},
     "output_type": "execute_result"
    }
   ],
   "source": [
    "np.random.uniform(-90.000, 90.000, size=50)"
   ]
  },
  {
   "cell_type": "code",
   "execution_count": 13,
   "id": "76f61a7a",
   "metadata": {},
   "outputs": [],
   "source": [
    "# Import timeit.\n",
    "import timeit"
   ]
  },
  {
   "cell_type": "code",
   "execution_count": 14,
   "id": "65f232cf",
   "metadata": {},
   "outputs": [
    {
     "name": "stdout",
     "output_type": "stream",
     "text": [
      "14.9 µs ± 41.5 ns per loop (mean ± std. dev. of 7 runs, 100,000 loops each)\n"
     ]
    }
   ],
   "source": [
    "%timeit np.random.uniform(-90.000, 90.000, size=1500)"
   ]
  },
  {
   "cell_type": "code",
   "execution_count": 15,
   "id": "4e14fec1",
   "metadata": {},
   "outputs": [
    {
     "name": "stdout",
     "output_type": "stream",
     "text": [
      "1.08 ms ± 5.22 µs per loop (mean ± std. dev. of 7 runs, 1,000 loops each)\n"
     ]
    }
   ],
   "source": [
    "def latitudes(size):\n",
    "    latitudes = []\n",
    "    x = 0\n",
    "    while x < (size):\n",
    "        random_lat = random.randint(-90, 90) + random.random()\n",
    "        latitudes.append(random_lat)\n",
    "        x += 1\n",
    "    return latitudes\n",
    "# Call the function with 1500.\n",
    "%timeit latitudes(1500)"
   ]
  },
  {
   "cell_type": "code",
   "execution_count": null,
   "id": "1a045081",
   "metadata": {},
   "outputs": [],
   "source": []
  }
 ],
 "metadata": {
  "kernelspec": {
   "display_name": "PythonData",
   "language": "python",
   "name": "pythondata"
  },
  "language_info": {
   "codemirror_mode": {
    "name": "ipython",
    "version": 3
   },
   "file_extension": ".py",
   "mimetype": "text/x-python",
   "name": "python",
   "nbconvert_exporter": "python",
   "pygments_lexer": "ipython3",
   "version": "3.8.10"
  }
 },
 "nbformat": 4,
 "nbformat_minor": 5
}
